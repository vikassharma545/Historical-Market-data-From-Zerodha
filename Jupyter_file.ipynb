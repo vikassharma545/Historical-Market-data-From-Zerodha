{
 "cells": [
  {
   "cell_type": "markdown",
   "id": "a767b210",
   "metadata": {},
   "source": [
    "# Download-historical-Stock-data-Free"
   ]
  },
  {
   "cell_type": "markdown",
   "id": "c1171cc3",
   "metadata": {},
   "source": [
    "# Importing Library"
   ]
  },
  {
   "cell_type": "code",
   "execution_count": 1,
   "id": "aa0e46b0",
   "metadata": {},
   "outputs": [],
   "source": [
    "from Pyzdata import PyZData, Interval"
   ]
  },
  {
   "cell_type": "markdown",
   "id": "43e97765",
   "metadata": {},
   "source": [
    "###         Login Using Zerodha            "
   ]
  },
  {
   "cell_type": "code",
   "execution_count": 2,
   "id": "45ac6ead",
   "metadata": {},
   "outputs": [
    {
     "name": "stdout",
     "output_type": "stream",
     "text": [
      "\n",
      "✅ Logged in successfully\n",
      "\n",
      "Loading instrument data from https://api.kite.trade/instruments\n"
     ]
    }
   ],
   "source": [
    "zdata = PyZData(user_id=\"ZGA974\", password=\"Delhi@12345\", totp=838955)"
   ]
  },
  {
   "cell_type": "markdown",
   "id": "a578779d",
   "metadata": {},
   "source": [
    "### Get Data Function"
   ]
  },
  {
   "cell_type": "code",
   "execution_count": 3,
   "id": "ec09f2a6",
   "metadata": {
    "scrolled": false
   },
   "outputs": [
    {
     "name": "stdout",
     "output_type": "stream",
     "text": [
      "NIFTY 50 data fetched: 2024-01-01 - 2024-01-31\n",
      "NIFTY 50 data fetched: 2024-02-01 - 2024-02-29\n",
      "NIFTY 50 data fetched: 2024-03-01 - 2024-03-31\n",
      "NIFTY 50 data fetched: 2024-04-01 - 2024-04-30\n",
      "NIFTY 50 data fetched: 2024-05-01 - 2024-05-31\n",
      "NIFTY 50 data fetched: 2024-06-01 - 2024-06-30\n",
      "NIFTY 50 data fetched: 2024-07-01 - 2024-07-31\n",
      "NIFTY 50 data fetched: 2024-08-01 - 2024-08-31\n",
      "NIFTY 50 data fetched: 2024-09-01 - 2024-09-30\n",
      "NIFTY 50 data fetched: 2024-10-01 - 2024-10-31\n",
      "NIFTY 50 data fetched: 2024-11-01 - 2024-11-30\n",
      "NIFTY 50 data fetched: 2024-12-01 - 2024-12-31\n"
     ]
    },
    {
     "data": {
      "text/html": [
       "<div>\n",
       "<style scoped>\n",
       "    .dataframe tbody tr th:only-of-type {\n",
       "        vertical-align: middle;\n",
       "    }\n",
       "\n",
       "    .dataframe tbody tr th {\n",
       "        vertical-align: top;\n",
       "    }\n",
       "\n",
       "    .dataframe thead th {\n",
       "        text-align: right;\n",
       "    }\n",
       "</style>\n",
       "<table border=\"1\" class=\"dataframe\">\n",
       "  <thead>\n",
       "    <tr style=\"text-align: right;\">\n",
       "      <th></th>\n",
       "      <th>tradingsymbol</th>\n",
       "      <th>datetime</th>\n",
       "      <th>open</th>\n",
       "      <th>high</th>\n",
       "      <th>low</th>\n",
       "      <th>close</th>\n",
       "      <th>volume</th>\n",
       "    </tr>\n",
       "  </thead>\n",
       "  <tbody>\n",
       "    <tr>\n",
       "      <th>0</th>\n",
       "      <td>NIFTY 50</td>\n",
       "      <td>2024-01-01 09:15:00</td>\n",
       "      <td>21727.75</td>\n",
       "      <td>21737.35</td>\n",
       "      <td>21701.80</td>\n",
       "      <td>21712.00</td>\n",
       "      <td>0</td>\n",
       "    </tr>\n",
       "    <tr>\n",
       "      <th>1</th>\n",
       "      <td>NIFTY 50</td>\n",
       "      <td>2024-01-01 09:16:00</td>\n",
       "      <td>21711.50</td>\n",
       "      <td>21720.00</td>\n",
       "      <td>21695.35</td>\n",
       "      <td>21695.65</td>\n",
       "      <td>0</td>\n",
       "    </tr>\n",
       "    <tr>\n",
       "      <th>2</th>\n",
       "      <td>NIFTY 50</td>\n",
       "      <td>2024-01-01 09:17:00</td>\n",
       "      <td>21697.70</td>\n",
       "      <td>21711.75</td>\n",
       "      <td>21694.75</td>\n",
       "      <td>21709.55</td>\n",
       "      <td>0</td>\n",
       "    </tr>\n",
       "    <tr>\n",
       "      <th>3</th>\n",
       "      <td>NIFTY 50</td>\n",
       "      <td>2024-01-01 09:18:00</td>\n",
       "      <td>21709.55</td>\n",
       "      <td>21712.50</td>\n",
       "      <td>21698.40</td>\n",
       "      <td>21699.55</td>\n",
       "      <td>0</td>\n",
       "    </tr>\n",
       "    <tr>\n",
       "      <th>4</th>\n",
       "      <td>NIFTY 50</td>\n",
       "      <td>2024-01-01 09:19:00</td>\n",
       "      <td>21704.35</td>\n",
       "      <td>21708.00</td>\n",
       "      <td>21693.55</td>\n",
       "      <td>21693.75</td>\n",
       "      <td>0</td>\n",
       "    </tr>\n",
       "    <tr>\n",
       "      <th>...</th>\n",
       "      <td>...</td>\n",
       "      <td>...</td>\n",
       "      <td>...</td>\n",
       "      <td>...</td>\n",
       "      <td>...</td>\n",
       "      <td>...</td>\n",
       "      <td>...</td>\n",
       "    </tr>\n",
       "    <tr>\n",
       "      <th>92509</th>\n",
       "      <td>NIFTY 50</td>\n",
       "      <td>2024-12-31 15:25:00</td>\n",
       "      <td>23648.70</td>\n",
       "      <td>23656.40</td>\n",
       "      <td>23646.50</td>\n",
       "      <td>23656.40</td>\n",
       "      <td>0</td>\n",
       "    </tr>\n",
       "    <tr>\n",
       "      <th>92510</th>\n",
       "      <td>NIFTY 50</td>\n",
       "      <td>2024-12-31 15:26:00</td>\n",
       "      <td>23655.75</td>\n",
       "      <td>23663.30</td>\n",
       "      <td>23655.75</td>\n",
       "      <td>23657.65</td>\n",
       "      <td>0</td>\n",
       "    </tr>\n",
       "    <tr>\n",
       "      <th>92511</th>\n",
       "      <td>NIFTY 50</td>\n",
       "      <td>2024-12-31 15:27:00</td>\n",
       "      <td>23657.45</td>\n",
       "      <td>23659.80</td>\n",
       "      <td>23651.95</td>\n",
       "      <td>23658.75</td>\n",
       "      <td>0</td>\n",
       "    </tr>\n",
       "    <tr>\n",
       "      <th>92512</th>\n",
       "      <td>NIFTY 50</td>\n",
       "      <td>2024-12-31 15:28:00</td>\n",
       "      <td>23658.90</td>\n",
       "      <td>23664.05</td>\n",
       "      <td>23655.05</td>\n",
       "      <td>23658.80</td>\n",
       "      <td>0</td>\n",
       "    </tr>\n",
       "    <tr>\n",
       "      <th>92513</th>\n",
       "      <td>NIFTY 50</td>\n",
       "      <td>2024-12-31 15:29:00</td>\n",
       "      <td>23662.75</td>\n",
       "      <td>23669.40</td>\n",
       "      <td>23651.85</td>\n",
       "      <td>23668.80</td>\n",
       "      <td>0</td>\n",
       "    </tr>\n",
       "  </tbody>\n",
       "</table>\n",
       "<p>92514 rows × 7 columns</p>\n",
       "</div>"
      ],
      "text/plain": [
       "      tradingsymbol            datetime      open      high       low  \\\n",
       "0          NIFTY 50 2024-01-01 09:15:00  21727.75  21737.35  21701.80   \n",
       "1          NIFTY 50 2024-01-01 09:16:00  21711.50  21720.00  21695.35   \n",
       "2          NIFTY 50 2024-01-01 09:17:00  21697.70  21711.75  21694.75   \n",
       "3          NIFTY 50 2024-01-01 09:18:00  21709.55  21712.50  21698.40   \n",
       "4          NIFTY 50 2024-01-01 09:19:00  21704.35  21708.00  21693.55   \n",
       "...             ...                 ...       ...       ...       ...   \n",
       "92509      NIFTY 50 2024-12-31 15:25:00  23648.70  23656.40  23646.50   \n",
       "92510      NIFTY 50 2024-12-31 15:26:00  23655.75  23663.30  23655.75   \n",
       "92511      NIFTY 50 2024-12-31 15:27:00  23657.45  23659.80  23651.95   \n",
       "92512      NIFTY 50 2024-12-31 15:28:00  23658.90  23664.05  23655.05   \n",
       "92513      NIFTY 50 2024-12-31 15:29:00  23662.75  23669.40  23651.85   \n",
       "\n",
       "          close  volume  \n",
       "0      21712.00       0  \n",
       "1      21695.65       0  \n",
       "2      21709.55       0  \n",
       "3      21699.55       0  \n",
       "4      21693.75       0  \n",
       "...         ...     ...  \n",
       "92509  23656.40       0  \n",
       "92510  23657.65       0  \n",
       "92511  23658.75       0  \n",
       "92512  23658.80       0  \n",
       "92513  23668.80       0  \n",
       "\n",
       "[92514 rows x 7 columns]"
      ]
     },
     "metadata": {},
     "output_type": "display_data"
    }
   ],
   "source": [
    "## token for data download\n",
    "nifty50_token = zdata.get_instrument_token(tradingsymbol=\"NIFTY 50\", exchange=\"NSE\")\n",
    "\n",
    "df = zdata.get_data(instrument_token=nifty50_token, start_date=\"2024-01-01\", end_date=\"2024-12-31\", interval=Interval.MINUTE_1, oi=False, print_logs=True)\n",
    "display(df)"
   ]
  },
  {
   "cell_type": "code",
   "execution_count": null,
   "id": "35b6e738",
   "metadata": {},
   "outputs": [],
   "source": []
  }
 ],
 "metadata": {
  "kernelspec": {
   "display_name": "Python 3 (ipykernel)",
   "language": "python",
   "name": "python3"
  },
  "language_info": {
   "codemirror_mode": {
    "name": "ipython",
    "version": 3
   },
   "file_extension": ".py",
   "mimetype": "text/x-python",
   "name": "python",
   "nbconvert_exporter": "python",
   "pygments_lexer": "ipython3",
   "version": "3.11.9"
  }
 },
 "nbformat": 4,
 "nbformat_minor": 5
}
